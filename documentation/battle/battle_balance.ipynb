{
 "cells": [
  {
   "cell_type": "code",
   "execution_count": 51,
   "outputs": [
    {
     "name": "stdout",
     "output_type": "stream",
     "text": [
      "[1, 3, 6, 10, 15, 21, 28, 36, 45, 55, 66, 78, 91]\n"
     ]
    }
   ],
   "source": [
    "def char_value(val: int) -> int:\n",
    "    # вес значения характеристики\n",
    "    # рассчитывается как сумма val членов арифметической прогрессии с шагом 1\n",
    "    last_term = 1 + (val - 1) * 1  # последний член прогрессии\n",
    "    sum_of_terms = (val * (1 + last_term)) // 2  # сумма прогрессии (сумма членов)\n",
    "    return sum_of_terms\n",
    "\n",
    "\n",
    "print([char_value(i) for i in range(1, 14)])\n"
   ],
   "metadata": {
    "collapsed": false,
    "pycharm": {
     "name": "#%%\n"
    }
   }
  },
  {
   "cell_type": "code",
   "execution_count": 487,
   "outputs": [],
   "source": [
    "class Personage:\n",
    "    def __init__(\n",
    "            self,\n",
    "            hp,\n",
    "            attack,\n",
    "            defense,\n",
    "            strength,\n",
    "            agility,\n",
    "            wisdom\n",
    "    ):\n",
    "        self.hp = hp\n",
    "        self.attack = attack\n",
    "        self.defense = defense\n",
    "        self.strength = strength\n",
    "        self.agility = agility\n",
    "        self.wisdom = wisdom\n",
    "\n",
    "    def advantage(self, other) -> float:\n",
    "        multiplier = 2\n",
    "        # Бой строится на принципе КНБ сила > ловкость > мудрость > сила\n",
    "        # Считаем разницу между смежными характеристиками относительно первого персонажа\n",
    "        # Например итоговая сила первого персонажа = s1 - a2 / 3 - w2\n",
    "        # потом считаем разницу между получившимися характеристиками\n",
    "        strength1 = max(self.strength - other.agility / multiplier - other.wisdom, 1)\n",
    "        agility1 = max(self.agility - other.wisdom / multiplier - other.strength, 1)\n",
    "        wisdom1 = max(self.wisdom - other.strength / multiplier - other.agility, 1)\n",
    "        strength2 = max(other.strength - self.agility / multiplier - self.wisdom, 1)\n",
    "        agility2 = max(other.agility - self.wisdom / multiplier - self.strength, 1)\n",
    "        wisdom2 = max(other.wisdom - self.strength / multiplier - self.agility, 1)\n",
    "        # print(strength1, agility1, wisdom1)\n",
    "        # print(strength2, agility2, wisdom2)\n",
    "        return (strength1 + agility1 + wisdom1) - (strength2 + agility2 + wisdom2)\n",
    "\n",
    "\n",
    "def default_pers():\n",
    "    return Personage(500, 50, 20, 5, 5, 5)\n",
    "\n",
    "\n",
    "def empty_pers():\n",
    "    return Personage(500, 50, 20, 1, 1, 1)\n",
    "\n",
    "\n",
    "def pers_with_max_strength():\n",
    "    return Personage(500, 50, 20, 13, 1, 1)\n",
    "\n",
    "\n",
    "def pers_with_max_agility():\n",
    "    return Personage(500, 50, 20, 1, 13, 1)\n",
    "\n",
    "\n",
    "def pers_with_max_wisdom():\n",
    "    return Personage(500, 50, 20, 1, 1, 13)"
   ],
   "metadata": {
    "collapsed": false,
    "pycharm": {
     "name": "#%%\n"
    }
   }
  },
  {
   "cell_type": "code",
   "execution_count": 556,
   "outputs": [
    {
     "name": "stdout",
     "output_type": "stream",
     "text": [
      "4.5\n",
      "1 2 12\n",
      "10 1 4\n"
     ]
    }
   ],
   "source": [
    "# найти максимальное преимущество\n",
    "import random\n",
    "\n",
    "repeat = 500000\n",
    "max_advantage = 0\n",
    "final_pers1 = None\n",
    "final_pers2 = None\n",
    "\n",
    "def increase_random_characteristic(pers: Personage):\n",
    "    r = random.randrange(4)\n",
    "    if r == 0:\n",
    "        pers.strength += 1\n",
    "    elif r == 1:\n",
    "        pers.agility += 1\n",
    "    else:\n",
    "        pers.wisdom += 1\n",
    "\n",
    "for _ in range(repeat):\n",
    "    pers1 = empty_pers()\n",
    "    pers2 = empty_pers()\n",
    "    for _ in range(12):\n",
    "        increase_random_characteristic(pers1)\n",
    "        increase_random_characteristic(pers2)\n",
    "    if abs(pers1.advantage(pers2)) > max_advantage:\n",
    "        max_advantage = abs(pers1.advantage(pers2))\n",
    "        final_pers1 = pers1\n",
    "        final_pers2 = pers2\n",
    "\n",
    "print(max_advantage)\n",
    "print(final_pers1.strength, final_pers1.agility, final_pers1.wisdom)\n",
    "print(final_pers2.strength, final_pers2.agility, final_pers2.wisdom)"
   ],
   "metadata": {
    "collapsed": false,
    "pycharm": {
     "name": "#%%\n"
    }
   }
  },
  {
   "cell_type": "markdown",
   "source": [],
   "metadata": {
    "collapsed": false,
    "pycharm": {
     "name": "#%% md\n"
    }
   }
  },
  {
   "cell_type": "code",
   "execution_count": 572,
   "outputs": [],
   "source": [
    "from random import randrange\n",
    "import random\n",
    "import time\n",
    "\n",
    "min_attack = 0.3\n",
    "advantage_modifier = 1 / 4\n",
    "\n",
    "# в dodge и advantage_percent используется разновидности функции 1/x которая стремится к определённой границе,\n",
    "# но никогда её не достигает\n",
    "\n",
    "def dodge(agility1: int, agility2: int) -> bool:\n",
    "    diff = agility1 - agility2\n",
    "    chance = 10\n",
    "    offset_x = -14\n",
    "    if diff > offset_x:\n",
    "        chance = chance + max(-1250 / (diff - offset_x) + 70, 0)\n",
    "    result = random.randrange(100) < chance\n",
    "    # print(agility1, chance, result)\n",
    "    return result\n",
    "\n",
    "def advantage_percent(advantage: float) -> float:\n",
    "    return -8 / (advantage + 8) + 1\n",
    "\n",
    "def crit(wisdom1: int, wisdom2: int) -> float:\n",
    "    diff = wisdom1 - wisdom2\n",
    "    chance = 10\n",
    "    offset_x = -14\n",
    "    if diff > offset_x:\n",
    "        chance = chance + max(-1300 / (diff - offset_x) + 70, 0)\n",
    "    multiplier = 2\n",
    "    offset_multiplier_x = -6\n",
    "    if diff > offset_x:\n",
    "        multiplier = multiplier + max(-9 / (diff - offset_multiplier_x) + 1.5, 0)\n",
    "    return multiplier if random.randrange(100) < chance else 1\n",
    "\n",
    "def attack_multiplier(strength1: int, strength2: int) -> float:\n",
    "    deviation = 0.1\n",
    "    bonus = 0\n",
    "    offset_x = -10\n",
    "    diff = strength1 - strength2\n",
    "    if diff > offset_x:\n",
    "        bonus = bonus + max(-1 / (diff - offset_x) + 0.1, 0)\n",
    "    return random.uniform(1 - deviation, 1 + deviation) + bonus\n",
    "\n",
    "def battle(pers1: Personage, pers2: Personage) -> bool:\n",
    "    # Бой строится на принципе КНБ сила > ловкость > мудрость > сила\n",
    "    turn1 = randrange(2) == 0\n",
    "    advantage1 = pers1.advantage(pers2)\n",
    "    if advantage1 >= 0:\n",
    "        bonus1 = 1 + advantage_percent(advantage1)\n",
    "        bonus2 = 1\n",
    "    else:\n",
    "        bonus2 = 1 + advantage_percent(abs(advantage1))\n",
    "        bonus1 = 1\n",
    "    # print(bonus1, bonus2)\n",
    "    while pers1.hp > 0 and pers2.hp > 0:\n",
    "        if turn1:\n",
    "            if not dodge(pers2.agility, pers1.agility):\n",
    "                attack = pers1.attack \\\n",
    "                         * bonus1 \\\n",
    "                         * crit(pers1.wisdom, pers2.wisdom) \\\n",
    "                         * attack_multiplier(pers1.strength, pers2.strength)\n",
    "                pers2.hp -= max(attack - pers2.defense, pers1.attack * min_attack)\n",
    "        else:\n",
    "            if not dodge(pers1.agility, pers2.agility):\n",
    "                attack = pers2.attack *\\\n",
    "                         bonus2 *\\\n",
    "                         crit(pers2.wisdom, pers1.wisdom) *\\\n",
    "                         attack_multiplier(pers2.strength, pers1.strength)\n",
    "                pers1.hp -= max(attack - pers1.defense, pers2.attack * min_attack)\n",
    "        turn1 = not turn1\n",
    "    # print(pers1.hp, pers2.hp)\n",
    "    return pers1.hp > 0"
   ],
   "metadata": {
    "collapsed": false,
    "pycharm": {
     "name": "#%%\n"
    }
   }
  },
  {
   "cell_type": "code",
   "execution_count": 573,
   "outputs": [
    {
     "name": "stdout",
     "output_type": "stream",
     "text": [
      "True\n"
     ]
    }
   ],
   "source": [
    "personage_a = pers_with_max_agility()\n",
    "personage_s = pers_with_max_strength()\n",
    "print(battle(personage_s, personage_a))"
   ],
   "metadata": {
    "collapsed": false,
    "pycharm": {
     "name": "#%%\n"
    }
   }
  },
  {
   "cell_type": "code",
   "execution_count": 574,
   "outputs": [],
   "source": [
    "repeat = 5000"
   ],
   "metadata": {
    "collapsed": false,
    "pycharm": {
     "name": "#%%\n"
    }
   }
  },
  {
   "cell_type": "code",
   "execution_count": 575,
   "outputs": [
    {
     "name": "stdout",
     "output_type": "stream",
     "text": [
      "0.8064\n"
     ]
    }
   ],
   "source": [
    "wins = 0\n",
    "min_hp = 10000\n",
    "for _ in range(repeat):\n",
    "    personage1 = pers_with_max_strength()\n",
    "    personage2 = pers_with_max_agility()\n",
    "    wins += 1 if battle(personage1, personage2) else 0\n",
    "    min_hp = min(personage1.hp, min_hp)\n",
    "print(wins / repeat)\n",
    "# print(min_hp)"
   ],
   "metadata": {
    "collapsed": false,
    "pycharm": {
     "name": "#%%\n"
    }
   }
  },
  {
   "cell_type": "code",
   "execution_count": 576,
   "outputs": [
    {
     "name": "stdout",
     "output_type": "stream",
     "text": [
      "0.813\n"
     ]
    }
   ],
   "source": [
    "wins = 0\n",
    "min_hp = 10000\n",
    "for _ in range(repeat):\n",
    "    personage1 = pers_with_max_agility()\n",
    "    personage2 = pers_with_max_wisdom()\n",
    "    wins += 1 if battle(personage1, personage2) else 0\n",
    "    min_hp = min(personage1.hp, min_hp)\n",
    "print(wins / repeat)\n",
    "# print(min_hp)"
   ],
   "metadata": {
    "collapsed": false,
    "pycharm": {
     "name": "#%%\n"
    }
   }
  },
  {
   "cell_type": "code",
   "execution_count": 577,
   "outputs": [
    {
     "name": "stdout",
     "output_type": "stream",
     "text": [
      "0.8448\n"
     ]
    }
   ],
   "source": [
    "wins = 0\n",
    "min_hp = 10000\n",
    "for _ in range(repeat):\n",
    "    personage1 = pers_with_max_wisdom()\n",
    "    personage2 = pers_with_max_strength()\n",
    "    wins += 1 if battle(personage1, personage2) else 0\n",
    "    min_hp = min(personage1.hp, min_hp)\n",
    "print(wins / repeat)\n",
    "# print(min_hp)"
   ],
   "metadata": {
    "collapsed": false,
    "pycharm": {
     "name": "#%%\n"
    }
   }
  },
  {
   "cell_type": "code",
   "execution_count": 578,
   "outputs": [
    {
     "name": "stdout",
     "output_type": "stream",
     "text": [
      "0.553\n"
     ]
    }
   ],
   "source": [
    "wins = 0\n",
    "min_hp = 10000\n",
    "for _ in range(repeat):\n",
    "    personage1 = Personage(500, 50, 20, 2, 5, 8)\n",
    "    personage2 = Personage(500, 50, 20, 5, 5, 5)\n",
    "    wins += 1 if battle(personage1, personage2) else 0\n",
    "    min_hp = min(personage1.hp, min_hp)\n",
    "print(wins / repeat)"
   ],
   "metadata": {
    "collapsed": false,
    "pycharm": {
     "name": "#%%\n"
    }
   }
  },
  {
   "cell_type": "code",
   "execution_count": 579,
   "outputs": [
    {
     "name": "stdout",
     "output_type": "stream",
     "text": [
      "0.723\n"
     ]
    }
   ],
   "source": [
    "wins = 0\n",
    "min_hp = 10000\n",
    "for _ in range(repeat):\n",
    "    personage1 = Personage(500, 50, 20, 9, 1, 5)\n",
    "    personage2 = Personage(500, 50, 20, 5, 5, 5)\n",
    "    wins += 1 if battle(personage1, personage2) else 0\n",
    "    min_hp = min(personage1.hp, min_hp)\n",
    "print(wins / repeat)"
   ],
   "metadata": {
    "collapsed": false,
    "pycharm": {
     "name": "#%%\n"
    }
   }
  },
  {
   "cell_type": "code",
   "execution_count": 580,
   "outputs": [
    {
     "name": "stdout",
     "output_type": "stream",
     "text": [
      "0.4704\n"
     ]
    }
   ],
   "source": [
    "wins = 0\n",
    "min_hp = 10000\n",
    "for _ in range(repeat):\n",
    "    personage1 = Personage(500, 50, 20, 13, 1, 1)\n",
    "    personage2 = Personage(500, 50, 20, 4, 1, 10)\n",
    "    wins += 1 if battle(personage1, personage2) else 0\n",
    "    min_hp = min(personage1.hp, min_hp)\n",
    "print(wins / repeat)"
   ],
   "metadata": {
    "collapsed": false,
    "pycharm": {
     "name": "#%%\n"
    }
   }
  },
  {
   "cell_type": "code",
   "execution_count": 496,
   "outputs": [
    {
     "name": "stdout",
     "output_type": "stream",
     "text": [
      "0\n"
     ]
    }
   ],
   "source": [
    "p1 = Personage(500, 50, 20, 2, 5, 8)\n",
    "p2 = Personage(500, 50, 20, 5, 5, 5)\n",
    "print(p1.advantage(p2))"
   ],
   "metadata": {
    "collapsed": false,
    "pycharm": {
     "name": "#%%\n"
    }
   }
  },
  {
   "cell_type": "code",
   "execution_count": 497,
   "outputs": [
    {
     "name": "stdout",
     "output_type": "stream",
     "text": [
      "0.5\n"
     ]
    }
   ],
   "source": [
    "p1 = Personage(500, 50, 20, 9, 1, 5)\n",
    "p2 = Personage(500, 50, 20, 5, 5, 5)\n",
    "print(p1.advantage(p2))"
   ],
   "metadata": {
    "collapsed": false,
    "pycharm": {
     "name": "#%%\n"
    }
   }
  },
  {
   "cell_type": "code",
   "execution_count": 498,
   "outputs": [
    {
     "name": "stdout",
     "output_type": "stream",
     "text": [
      "0.5\n"
     ]
    }
   ],
   "source": [
    "p1 = Personage(500, 50, 20, 5, 9, 1)\n",
    "p2 = Personage(500, 50, 20, 5, 5, 5)\n",
    "print(p1.advantage(p2))"
   ],
   "metadata": {
    "collapsed": false,
    "pycharm": {
     "name": "#%%\n"
    }
   }
  },
  {
   "cell_type": "code",
   "execution_count": 557,
   "outputs": [
    {
     "name": "stdout",
     "output_type": "stream",
     "text": [
      "4.5\n"
     ]
    }
   ],
   "source": [
    "print(pers_with_max_agility().advantage(pers_with_max_wisdom()))"
   ],
   "metadata": {
    "collapsed": false,
    "pycharm": {
     "name": "#%%\n"
    }
   }
  },
  {
   "cell_type": "code",
   "execution_count": null,
   "outputs": [],
   "source": [],
   "metadata": {
    "collapsed": false,
    "pycharm": {
     "name": "#%%\n"
    }
   }
  }
 ],
 "metadata": {
  "kernelspec": {
   "display_name": "Python 3",
   "language": "python",
   "name": "python3"
  },
  "language_info": {
   "codemirror_mode": {
    "name": "ipython",
    "version": 2
   },
   "file_extension": ".py",
   "mimetype": "text/x-python",
   "name": "python",
   "nbconvert_exporter": "python",
   "pygments_lexer": "ipython2",
   "version": "2.7.6"
  }
 },
 "nbformat": 4,
 "nbformat_minor": 0
}